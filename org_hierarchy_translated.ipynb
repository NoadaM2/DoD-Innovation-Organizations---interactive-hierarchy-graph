{
  "cells": [
    {
      "cell_type": "markdown",
      "metadata": {},
      "source": [
        "# Интерактивная иерархия организаций с переводом описаний на русский\n",
        "\n",
        "Этот ноутбук создаёт интерактивный граф (HTML) на основе JSON-файлов:\n",
        "- `entities_full.json` — список организаций и их атрибутов;  \n",
        "- `connections.json` — связи между организациями.\n",
        "\n",
        "Особенности:\n",
        "- Иерархия сверху вниз (**Top-Down**)  \n",
        "- Адаптивный дизайн для телефонов (**height = 100vh**)  \n",
        "- Автоматический перевод `description` на русский через `deep-translator`  \n",
        "- При клике на узел выводится справка под графом"
      ]
    },
    {
      "cell_type": "code",
      "execution_count": null,
      "metadata": {},
      "outputs": [],
      "source": [
        "!pip install pyvis deep-translator"
      ]
    },
    {
      "cell_type": "code",
      "execution_count": null,
      "metadata": {},
      "outputs": [],
      "source": [
        "import json\n",
        "from pyvis.network import Network\n",
        "import textwrap\n",
        "from deep_translator import GoogleTranslator\n",
        "\n",
        "translator = GoogleTranslator(source='auto', target='ru')\n",
        "\n",
        "def translate_text(text):\n",
        "    if not text or len(text.strip()) < 3:\n",
        "        return text\n",
        "    try:\n",
        "        return translator.translate(text)\n",
        "    except Exception:\n",
        "        return text\n",
        "\n",
        "def wrap_label(label: str, width: int = 18) -> str:\n",
        "    return \"\\n\".join(textwrap.wrap(label or \"\", width=width, break_long_words=False, break_on_hyphens=False))"
      ]
    },
    {
      "cell_type": "code",
      "execution_count": null,
      "metadata": {},
      "outputs": [],
      "source": [
        "with open('connections.json', encoding='utf-8') as f:\n",
        "    connections = json.load(f)\n",
        "with open('entities_full.json', encoding='utf-8') as f:\n",
        "    entities = json.load(f)\n",
        "\n",
        "entity_map = {row['id']: row['value']['attributes'] for row in entities['rows'] if 'attributes' in row['value']}\n",
        "print(f'Загружено элементов: {len(entity_map)}')"
      ]
    },
    {
      "cell_type": "code",
      "execution_count": null,
      "metadata": {},
      "outputs": [],
      "source": [
        "net = Network(height='100vh', width='100%', bgcolor='#111111', font_color='white', directed=True)\n",
        "net.set_options('''{\n",
        "  \"layout\": {\"hierarchical\": {\"enabled\": true, \"direction\": \"UD\", \"sortMethod\": \"hubsize\", \"levelSeparation\": 250, \"nodeSpacing\": 280, \"treeSpacing\": 350, \"shakeTowards\": \"roots\"}},\n",
        "  \"interaction\": {\"zoomView\": true, \"dragView\": true},\n",
        "  \"physics\": {\"enabled\": false},\n",
        "  \"nodes\": {\"shape\": \"dot\", \"size\": 14, \"font\": {\"size\": 18, \"strokeWidth\": 2, \"multi\": \"html\"}, \"margin\": 12},\n",
        "  \"edges\": {\"arrows\": {\"to\": {\"enabled\": true, \"scaleFactor\": 0.6}}, \"smooth\": {\"type\": \"cubicBezier\"}}\n",
        "}''')"
      ]
    },
    {
      "cell_type": "code",
      "execution_count": null,
      "metadata": {},
      "outputs": [],
      "source": [
        "for eid, attrs in entity_map.items():\n",
        "    label = attrs.get('label', eid)\n",
        "    etype = attrs.get('element type', 'Unknown')\n",
        "    parent = attrs.get('parent organization', '')\n",
        "    desc = translate_text(attrs.get('description', ''))\n",
        "    website = attrs.get('website', '')\n",
        "    location = attrs.get('location', '')\n",
        "    color = '#4da6ff' if etype == 'Air Force' else '#80ff80' if etype == 'Navy' else '#ffcc00' if etype == 'Army' else '#ff6666'\n",
        "    html_info = f\"\"\"<b>{label}</b><br>Тип: {etype}<br>Подразделение: {parent}<br>Местоположение: {location}<br>Сайт: <a href='{website}' target='_blank'>{website}</a><br><i>Описание (рус): {desc}</i>\"\"\"\n",
        "    net.add_node(eid, label=wrap_label(label), title=html_info, color=color)\n",
        "print('✅ Узлы добавлены с переводом описаний.')"
      ]
    },
    {
      "cell_type": "code",
      "execution_count": null,
      "metadata": {},
      "outputs": [],
      "source": [
        "added_edges = 0\n",
        "for row in connections['rows']:\n",
        "    conn = row['value']\n",
        "    from_id = conn.get('from_id')\n",
        "    to_id = conn.get('to_id')\n",
        "    if from_id in entity_map and to_id in entity_map:\n",
        "        net.add_edge(from_id, to_id)\n",
        "        added_edges += 1\n",
        "print(f'✅ Добавлено связей: {added_edges}')"
      ]
    },
    {
      "cell_type": "code",
      "execution_count": null,
      "metadata": {},
      "outputs": [],
      "source": [
        "custom_html = '''<div id=\"org_info\" style=\"background:#111;color:white;font-size:16px;padding:10px;min-height:100px;margin-top:10px;\"><b>Нажмите на узел, чтобы увидеть описание организации.</b></div><script type=\"text/javascript\">network.on(\"click\", function (params) {if (params.nodes.length > 0) {var nodeId = params.nodes[0];var node = nodes.get(nodeId);document.getElementById(\"org_info\").innerHTML = node.title || \"Нет описания.\";}});</script>'''\n",
        "net.write_html('org_hierarchy.html', notebook=False)\n",
        "with open('org_hierarchy.html', 'r+', encoding='utf-8') as f:\n",
        "    html = f.read()\n",
        "    html = html.replace('</body>', custom_html + '\\n</body>')\n",
        "    f.seek(0)\n",
        "    f.write(html)\n",
        "    f.truncate()\n",
        "print('✅ Готово! Файл org_hierarchy.html можно открыть в браузере.')"
      ]
    }
  ],
  "metadata": {
    "kernelspec": {
      "display_name": "Python 3",
      "language": "python",
      "name": "python3"
    },
    "language_info": {
      "name": "python",
      "version": "3.10"
    }
  },
  "nbformat": 4,
  "nbformat_minor": 5
}